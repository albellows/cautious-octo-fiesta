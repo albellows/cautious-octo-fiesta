{
 "cells": [
  {
   "cell_type": "code",
   "execution_count": 18,
   "metadata": {},
   "outputs": [],
   "source": [
    "import math"
   ]
  },
  {
   "cell_type": "code",
   "execution_count": 19,
   "metadata": {},
   "outputs": [],
   "source": [
    "def ch(x, y, z) :\n",
    "    return (x & y)^(~x & z)\n",
    "\n",
    "def parity(x, y, z) :\n",
    "    return x ^ y ^ z\n",
    "\n",
    "def maj(x, y, z) :\n",
    "    return (x & y)^(x & z)^(y & z)"
   ]
  },
  {
   "cell_type": "code",
   "execution_count": 20,
   "metadata": {},
   "outputs": [],
   "source": [
    "def f(t, x, y, z) :\n",
    "    if 0 <= t and t <= 19 :\n",
    "        return ch(x,y,z)\n",
    "    elif 20 <= t and t <= 39 :\n",
    "        return parity(x,y,z)\n",
    "    elif 40 <= t and t <= 59 :\n",
    "        return maj(x,y,z)\n",
    "    elif 60 <= t and t <= 79 :\n",
    "        return parity(x,y,z)\n",
    "    else :\n",
    "        print(\"Invalid value of t.\")\n",
    "        return -1"
   ]
  },
  {
   "cell_type": "code",
   "execution_count": 21,
   "metadata": {},
   "outputs": [],
   "source": [
    "def k(t) :\n",
    "    if 0 <= t and t <= 19 :\n",
    "        return 0x5a827999\n",
    "    elif 20 <= t and t <= 39 :\n",
    "        return 0x6ed9eba1\n",
    "    elif 40 <= t and t <= 59 :\n",
    "        return 0x8f1bbcdc\n",
    "    elif 60 <= t and t <= 79 :\n",
    "        return 0xca62c1d6\n",
    "    else :\n",
    "        print(\"Invalid value of t.\")\n",
    "        return -1"
   ]
  },
  {
   "cell_type": "code",
   "execution_count": 5,
   "metadata": {},
   "outputs": [
    {
     "data": {
      "text/plain": [
       "24"
      ]
     },
     "execution_count": 5,
     "metadata": {},
     "output_type": "execute_result"
    }
   ],
   "source": [
    "def get_bit_length(s) :\n",
    "    return 8*len(s.encode(\"utf-8\"))"
   ]
  },
  {
   "cell_type": "code",
   "execution_count": 43,
   "metadata": {},
   "outputs": [],
   "source": [
    "# Padded message is parsed into N 512-bit blocks. The 512 bits \n",
    "# of the input block\n",
    "def pad(M) :\n",
    "    l = get_bit_length(M)\n",
    "    k = (512 + 448 - (l % 512 + 1)) % 512\n",
    "    \n",
    "    s = M.encode(\"utf-8\")\n",
    "    second_len = math.ceil((k+1)/8)\n",
    "    s += (1 << k).to_bytes(second_len, byteorder=\"big\")\n",
    "    third_len = 8\n",
    "    s += (l).to_bytes(third_len, byteorder=\"big\")\n",
    "    \n",
    "    #print(len(s))\n",
    "    return s\n",
    "#pad(\"abc\")"
   ]
  },
  {
   "cell_type": "code",
   "execution_count": 38,
   "metadata": {},
   "outputs": [
    {
     "data": {
      "text/plain": [
       "64.0"
      ]
     },
     "execution_count": 38,
     "metadata": {},
     "output_type": "execute_result"
    }
   ],
   "source": []
  },
  {
   "cell_type": "code",
   "execution_count": null,
   "metadata": {},
   "outputs": [],
   "source": []
  }
 ],
 "metadata": {
  "kernelspec": {
   "display_name": "Python 3",
   "language": "python",
   "name": "python3"
  },
  "language_info": {
   "codemirror_mode": {
    "name": "ipython",
    "version": 3
   },
   "file_extension": ".py",
   "mimetype": "text/x-python",
   "name": "python",
   "nbconvert_exporter": "python",
   "pygments_lexer": "ipython3",
   "version": "3.7.1"
  }
 },
 "nbformat": 4,
 "nbformat_minor": 2
}
