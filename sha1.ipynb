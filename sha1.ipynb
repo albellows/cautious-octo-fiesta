{
 "cells": [
  {
   "cell_type": "code",
   "execution_count": 15,
   "metadata": {},
   "outputs": [],
   "source": [
    "import math"
   ]
  },
  {
   "cell_type": "code",
   "execution_count": 135,
   "metadata": {},
   "outputs": [],
   "source": [
    "# Bytes bit-wise arithmetic\n",
    "# Assumes bytes objects are 32-bit words, per SHA-1\n",
    "\n",
    "def b_xor(x, y) :\n",
    "    intx = int.from_bytes(x, \"big\")\n",
    "    inty = int.from_bytes(y, \"big\")\n",
    "    val = intx^inty & 0xffffffff\n",
    "    return int.to_bytes(val, 4, \"big\")\n",
    "\n",
    "def b_and(x, y) :\n",
    "    intx = int.from_bytes(x, \"big\")\n",
    "    inty = int.from_bytes(y, \"big\")\n",
    "    val = intx&inty & 0xffffffff\n",
    "    return int.to_bytes(val, 4, \"big\")\n",
    "\n",
    "def b_complement(x) :\n",
    "    intx = int.from_bytes(x, \"big\")\n",
    "    val = ~intx & 0xffffffff\n",
    "    return int.to_bytes(val, 4, \"big\")"
   ]
  },
  {
   "cell_type": "code",
   "execution_count": 137,
   "metadata": {},
   "outputs": [],
   "source": [
    "# Bytes arithmetic\n",
    "# Assumes bytes objects are 32-bit words, per SHA-1\n",
    "\n",
    "# addition is performed modulo 2^32\n",
    "def b_plus(x, y) :\n",
    "    intx = int.from_bytes(x, \"big\")\n",
    "    inty = int.from_bytes(y, \"big\")\n",
    "    val = intx + inty\n",
    "    val = val % pow(2,32)\n",
    "    return int.to_bytes(val, 4, \"big\")\n",
    "\n",
    "def b_mod(x, y) :\n",
    "    intx = int.from_bytes(x, \"big\")\n",
    "    inty = int.from_bytes(y, \"big\")\n",
    "    val = intx % inty\n",
    "    return int.to_bytes(val, 4, \"big\")"
   ]
  },
  {
   "cell_type": "code",
   "execution_count": 41,
   "metadata": {},
   "outputs": [],
   "source": [
    "def ch(x, y, z) :\n",
    "    # (x & y)^(~x & z)\n",
    "    return b_xor(b_and(x,y), b_and(b_complement(x), z))\n",
    "\n",
    "def parity(x, y, z) :\n",
    "    # x ^ y ^ z\n",
    "    return b_xor(b_xor(x,y),z)\n",
    "\n",
    "def maj(x, y, z) :\n",
    "    # (x & y)^(x & z)^(y & z)\n",
    "    return b_xor(b_xor(b_and(x,y),b_and(x,z)),b_and(y,z))"
   ]
  },
  {
   "cell_type": "code",
   "execution_count": 17,
   "metadata": {},
   "outputs": [],
   "source": [
    "def f(t, x, y, z) :\n",
    "    if 0 <= t and t <= 19 :\n",
    "        return ch(x,y,z)\n",
    "    elif 20 <= t and t <= 39 :\n",
    "        return parity(x,y,z)\n",
    "    elif 40 <= t and t <= 59 :\n",
    "        return maj(x,y,z)\n",
    "    elif 60 <= t and t <= 79 :\n",
    "        return parity(x,y,z)\n",
    "    else :\n",
    "        print(\"Invalid value of t.\")\n",
    "        return -1"
   ]
  },
  {
   "cell_type": "code",
   "execution_count": 18,
   "metadata": {},
   "outputs": [],
   "source": [
    "def k(t) :\n",
    "    if 0 <= t and t <= 19 :\n",
    "        return 0x5a827999\n",
    "    elif 20 <= t and t <= 39 :\n",
    "        return 0x6ed9eba1\n",
    "    elif 40 <= t and t <= 59 :\n",
    "        return 0x8f1bbcdc\n",
    "    elif 60 <= t and t <= 79 :\n",
    "        return 0xca62c1d6\n",
    "    else :\n",
    "        print(\"Invalid value of t.\")\n",
    "        return -1"
   ]
  },
  {
   "cell_type": "code",
   "execution_count": 235,
   "metadata": {},
   "outputs": [],
   "source": [
    "def rotr(n, x) :\n",
    "    xint = int.from_bytes(x, \"big\")\n",
    "    val = (xint >> n) | (xint << 32 - n)\n",
    "    # keep in 32-bit space\n",
    "    val &= 0xffffffff\n",
    "    return int.to_bytes(val, 4, \"big\")\n",
    "\n",
    "def rotl(n, x) :\n",
    "    xint = int.from_bytes(x, \"big\")\n",
    "    val = (xint << n) | (xint >> 32 - n)\n",
    "    # keep in 32-bit space\n",
    "    val &= 0xffffffff\n",
    "    return int.to_bytes(val, 4, \"big\")"
   ]
  },
  {
   "cell_type": "code",
   "execution_count": 227,
   "metadata": {},
   "outputs": [
    {
     "name": "stdout",
     "output_type": "stream",
     "text": [
      "0xce8a46020\n",
      "0xc\n"
     ]
    },
    {
     "data": {
      "text/plain": [
       "'0xe8a4602c'"
      ]
     },
     "execution_count": 227,
     "metadata": {},
     "output_type": "execute_result"
    }
   ],
   "source": [
    "hex(int.from_bytes(rotl(5, int.to_bytes(0x67452301, 4, \"big\")),\"big\"))"
   ]
  },
  {
   "cell_type": "code",
   "execution_count": 20,
   "metadata": {},
   "outputs": [],
   "source": [
    "def get_bit_length(s) :\n",
    "    return 8*len(s.encode(\"utf-8\"))"
   ]
  },
  {
   "cell_type": "code",
   "execution_count": 21,
   "metadata": {},
   "outputs": [],
   "source": [
    "def pad(M) :\n",
    "    l = get_bit_length(M)\n",
    "    k = (512 + 448 - (l % 512 + 1)) % 512\n",
    "    \n",
    "    s = M.encode(\"utf-8\")\n",
    "    second_len = math.ceil((k+1)/8)\n",
    "    s += (1 << k).to_bytes(second_len, byteorder=\"big\")\n",
    "    third_len = 8\n",
    "    s += (l).to_bytes(third_len, byteorder=\"big\")\n",
    "    return s\n",
    "\n",
    "# Padded message is parsed into N 512-bit blocks. The 512 bits \n",
    "# of the input block may be expressed as 16 32-bit words\n",
    "# expects M is a bytes object\n",
    "def parse_pad(M) :\n",
    "    blocks = []\n",
    "    for index in range(0,len(M),65) :\n",
    "        blocks.append(M[index:index+64])\n",
    "    return blocks"
   ]
  },
  {
   "cell_type": "code",
   "execution_count": 22,
   "metadata": {},
   "outputs": [],
   "source": [
    "def init_hash() :\n",
    "    return [bytes.fromhex(x) for x in \\\n",
    "           (\"67452301\", \"efcdab89\", \"98badcfe\",  \\\n",
    "            \"10325476\", \"c3d2e1f0\") ]"
   ]
  },
  {
   "cell_type": "code",
   "execution_count": 23,
   "metadata": {
    "scrolled": true
   },
   "outputs": [
    {
     "data": {
      "text/plain": [
       "97"
      ]
     },
     "execution_count": 23,
     "metadata": {},
     "output_type": "execute_result"
    }
   ],
   "source": [
    "s = parse_pad(pad(\"abcdef\"))\n",
    "s[0][0]"
   ]
  },
  {
   "cell_type": "code",
   "execution_count": 77,
   "metadata": {},
   "outputs": [
    {
     "data": {
      "text/plain": [
       "'0xcd'"
      ]
     },
     "execution_count": 77,
     "metadata": {},
     "output_type": "execute_result"
    }
   ],
   "source": [
    "hex(init_hash()[1][1])"
   ]
  },
  {
   "cell_type": "code",
   "execution_count": 25,
   "metadata": {},
   "outputs": [
    {
     "data": {
      "text/plain": [
       "99"
      ]
     },
     "execution_count": 25,
     "metadata": {},
     "output_type": "execute_result"
    }
   ],
   "source": [
    "pad(\"abc\")[2]"
   ]
  },
  {
   "cell_type": "code",
   "execution_count": 256,
   "metadata": {},
   "outputs": [],
   "source": [
    "def sha1(m) :\n",
    "    s = pad(m)\n",
    "    \n",
    "    # M and h are both arrays of bytes objects\n",
    "    M = parse_pad(s)\n",
    "    h = []\n",
    "    h.insert(0,init_hash())\n",
    "    \n",
    "    N = len(M)\n",
    "    #n = N+1 if N>1 else N\n",
    "    \n",
    "    w = []\n",
    "    for i in range(1,N+1) :\n",
    "        for t in range(0,80) :\n",
    "            if 0 <= t and t <= 15 :\n",
    "                # M starts at index 1 in the docs!  So indices in\n",
    "                # M must be subtracted by 1.\n",
    "                w.insert(t,M[i-1][t*4:(t*4)+4])\n",
    "            else :\n",
    "                w.insert(t, \\\n",
    "                         rotl(1, b_xor(b_xor(b_xor(w[t-3],w[t-8]), \\\n",
    "                                       w[t-14]), w[t-16])))\n",
    "                \n",
    "        a = h[i-1][0]\n",
    "        b = h[i-1][1]\n",
    "        c = h[i-1][2]\n",
    "        d = h[i-1][3]\n",
    "        e = h[i-1][4]\n",
    "        \n",
    "        for t in range(0, 80) :\n",
    "            kt = int.to_bytes(k(t), 4, \"big\")           \n",
    "            T = b_plus(b_plus(b_plus(b_plus(rotl(5,a), f(t,b,c,d)), \\\n",
    "                       e), kt), w[t])\n",
    "            \n",
    "            e = d\n",
    "            d = c\n",
    "            c = rotl(30, b)\n",
    "            b = a\n",
    "            a = T\n",
    "  \n",
    "        new_h = [b_plus(x,h[i-1][y]) for x,y in \\\n",
    "                            zip([a,b,c,d,e],range(5))]\n",
    "        \n",
    "        h.insert(i, new_h)\n",
    "        \n",
    "    return h[N]"
   ]
  },
  {
   "cell_type": "code",
   "execution_count": 257,
   "metadata": {},
   "outputs": [
    {
     "data": {
      "text/plain": [
       "[b'\\xa9\\x99>6', b'G\\x06\\x81j', b'\\xba>%q', b'xP\\xc2l', b'\\x9c\\xd0\\xd8\\x9d']"
      ]
     },
     "execution_count": 257,
     "metadata": {},
     "output_type": "execute_result"
    }
   ],
   "source": [
    "sha1(\"abc\")"
   ]
  },
  {
   "cell_type": "code",
   "execution_count": 258,
   "metadata": {},
   "outputs": [
    {
     "data": {
      "text/plain": [
       "'0xe8a4602c'"
      ]
     },
     "execution_count": 258,
     "metadata": {},
     "output_type": "execute_result"
    }
   ],
   "source": [
    "hex(int.from_bytes(rotl(5, int.to_bytes(0x67452301, 4, \"big\")), \"big\"))"
   ]
  },
  {
   "cell_type": "code",
   "execution_count": 267,
   "metadata": {},
   "outputs": [
    {
     "name": "stdout",
     "output_type": "stream",
     "text": [
      "0x84983e441c3bd26ebaae4aa1f95129e5e54670f1\n"
     ]
    }
   ],
   "source": [
    "s = \"0x\"\n",
    "for b in sha1(\"abcdbcdecdefdefgefghfghighijhijkijkljklmklmnlmnomnopnopq\") :\n",
    "    s += hex(int.from_bytes(b, \"big\"))[2:]\n",
    "print(s)"
   ]
  },
  {
   "cell_type": "code",
   "execution_count": 268,
   "metadata": {},
   "outputs": [
    {
     "name": "stdout",
     "output_type": "stream",
     "text": [
      "0x84983e441c3bd26ebaae4aa1f95129e5e54670f1\n"
     ]
    },
    {
     "data": {
      "text/plain": [
       "True"
      ]
     },
     "execution_count": 268,
     "metadata": {},
     "output_type": "execute_result"
    }
   ],
   "source": [
    "ex = 0x84983E441C3BD26EBAAE4AA1F95129E5E54670F1\n",
    "print(hex(ex))\n",
    "hex(ex) == s"
   ]
  },
  {
   "cell_type": "code",
   "execution_count": null,
   "metadata": {},
   "outputs": [],
   "source": []
  }
 ],
 "metadata": {
  "kernelspec": {
   "display_name": "Python 3",
   "language": "python",
   "name": "python3"
  },
  "language_info": {
   "codemirror_mode": {
    "name": "ipython",
    "version": 3
   },
   "file_extension": ".py",
   "mimetype": "text/x-python",
   "name": "python",
   "nbconvert_exporter": "python",
   "pygments_lexer": "ipython3",
   "version": "3.7.1"
  }
 },
 "nbformat": 4,
 "nbformat_minor": 2
}
